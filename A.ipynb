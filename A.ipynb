{
 "cells": [
  {
   "cell_type": "code",
   "execution_count": 1,
   "metadata": {},
   "outputs": [
    {
     "name": "stderr",
     "output_type": "stream",
     "text": [
      "Using TensorFlow backend.\n"
     ]
    }
   ],
   "source": [
    "import numpy as np\n",
    "import matplotlib.pyplot as plt  # for 畫圖用\n",
    "import pandas as pd\n",
    "# Feature Scaling\n",
    "from sklearn.preprocessing import MinMaxScaler\n",
    "from keras.models import Sequential\n",
    "from keras.layers import Dense\n",
    "from keras.layers import LSTM\n",
    "from keras.layers import Dropout"
   ]
  },
  {
   "cell_type": "code",
   "execution_count": 3,
   "metadata": {},
   "outputs": [
    {
     "name": "stderr",
     "output_type": "stream",
     "text": [
      "C:\\Users\\j2722\\Anaconda3\\lib\\site-packages\\ipykernel_launcher.py:4: FutureWarning: Sorting because non-concatenation axis is not aligned. A future version\n",
      "of pandas will change to not sort by default.\n",
      "\n",
      "To accept the future behavior, pass 'sort=False'.\n",
      "\n",
      "To retain the current behavior and silence the warning, pass 'sort=True'.\n",
      "\n",
      "  after removing the cwd from sys.path.\n"
     ]
    }
   ],
   "source": [
    "# Import the training set\n",
    "dataset_train = pd.read_excel('A(塑化).xlsx')  # 讀取訓練集\n",
    "dataset_test = pd.read_excel('A(塑化)_測試.xlsx')\n",
    "data_all = pd.concat((dataset_train,dataset_test), axis = 0)\n",
    "data_all=data_all.fillna(method=\"ffill\",limit=10)\n",
    "#dataset_train=dataset_train.dropna(axis=1)\n",
    "training_set = data_all.iloc[:,[3,21,31,32,33,34,36,41,42,43,44,45,46]]#.values  # 取欄位值\n",
    "training_set1= data_all.iloc[:, 1:2].values"
   ]
  },
  {
   "cell_type": "code",
   "execution_count": 4,
   "metadata": {},
   "outputs": [],
   "source": [
    "real_stock_price =data_all.iloc[2100:2232,1].values"
   ]
  },
  {
   "cell_type": "code",
   "execution_count": 5,
   "metadata": {},
   "outputs": [],
   "source": [
    "train = data_all.iloc[:2100,[3,21,31,32,33,34,36,41,42,43,44,45,46]]"
   ]
  },
  {
   "cell_type": "code",
   "execution_count": 6,
   "metadata": {},
   "outputs": [],
   "source": [
    "#train"
   ]
  },
  {
   "cell_type": "code",
   "execution_count": 7,
   "metadata": {},
   "outputs": [
    {
     "ename": "TypeError",
     "evalue": "float() argument must be a string or a number, not 'NaTType'",
     "output_type": "error",
     "traceback": [
      "\u001b[1;31m---------------------------------------------------------------------------\u001b[0m",
      "\u001b[1;31mTypeError\u001b[0m                                 Traceback (most recent call last)",
      "\u001b[1;32m<ipython-input-7-c9cbd3375759>\u001b[0m in \u001b[0;36m<module>\u001b[1;34m()\u001b[0m\n\u001b[0;32m      1\u001b[0m \u001b[0msc\u001b[0m \u001b[1;33m=\u001b[0m \u001b[0mMinMaxScaler\u001b[0m\u001b[1;33m(\u001b[0m\u001b[0mfeature_range\u001b[0m \u001b[1;33m=\u001b[0m \u001b[1;33m(\u001b[0m\u001b[1;36m0\u001b[0m\u001b[1;33m,\u001b[0m \u001b[1;36m1\u001b[0m\u001b[1;33m)\u001b[0m\u001b[1;33m)\u001b[0m\u001b[1;33m\u001b[0m\u001b[0m\n\u001b[1;32m----> 2\u001b[1;33m \u001b[0mtraining_set_scaled\u001b[0m \u001b[1;33m=\u001b[0m \u001b[0msc\u001b[0m\u001b[1;33m.\u001b[0m\u001b[0mfit_transform\u001b[0m\u001b[1;33m(\u001b[0m\u001b[0mtraining_set\u001b[0m\u001b[1;33m)\u001b[0m\u001b[1;33m\u001b[0m\u001b[0m\n\u001b[0m\u001b[0;32m      3\u001b[0m \u001b[0msc1\u001b[0m \u001b[1;33m=\u001b[0m \u001b[0mMinMaxScaler\u001b[0m\u001b[1;33m(\u001b[0m\u001b[0mfeature_range\u001b[0m \u001b[1;33m=\u001b[0m \u001b[1;33m(\u001b[0m\u001b[1;36m0\u001b[0m\u001b[1;33m,\u001b[0m \u001b[1;36m1\u001b[0m\u001b[1;33m)\u001b[0m\u001b[1;33m)\u001b[0m\u001b[1;33m\u001b[0m\u001b[0m\n\u001b[0;32m      4\u001b[0m \u001b[0mtraining_set_scaled1\u001b[0m \u001b[1;33m=\u001b[0m \u001b[0msc1\u001b[0m\u001b[1;33m.\u001b[0m\u001b[0mfit_transform\u001b[0m\u001b[1;33m(\u001b[0m\u001b[0mtraining_set1\u001b[0m\u001b[1;33m)\u001b[0m\u001b[1;33m\u001b[0m\u001b[0m\n",
      "\u001b[1;32m~\\Anaconda3\\lib\\site-packages\\sklearn\\base.py\u001b[0m in \u001b[0;36mfit_transform\u001b[1;34m(self, X, y, **fit_params)\u001b[0m\n\u001b[0;32m    515\u001b[0m         \u001b[1;32mif\u001b[0m \u001b[0my\u001b[0m \u001b[1;32mis\u001b[0m \u001b[1;32mNone\u001b[0m\u001b[1;33m:\u001b[0m\u001b[1;33m\u001b[0m\u001b[0m\n\u001b[0;32m    516\u001b[0m             \u001b[1;31m# fit method of arity 1 (unsupervised transformation)\u001b[0m\u001b[1;33m\u001b[0m\u001b[1;33m\u001b[0m\u001b[0m\n\u001b[1;32m--> 517\u001b[1;33m             \u001b[1;32mreturn\u001b[0m \u001b[0mself\u001b[0m\u001b[1;33m.\u001b[0m\u001b[0mfit\u001b[0m\u001b[1;33m(\u001b[0m\u001b[0mX\u001b[0m\u001b[1;33m,\u001b[0m \u001b[1;33m**\u001b[0m\u001b[0mfit_params\u001b[0m\u001b[1;33m)\u001b[0m\u001b[1;33m.\u001b[0m\u001b[0mtransform\u001b[0m\u001b[1;33m(\u001b[0m\u001b[0mX\u001b[0m\u001b[1;33m)\u001b[0m\u001b[1;33m\u001b[0m\u001b[0m\n\u001b[0m\u001b[0;32m    518\u001b[0m         \u001b[1;32melse\u001b[0m\u001b[1;33m:\u001b[0m\u001b[1;33m\u001b[0m\u001b[0m\n\u001b[0;32m    519\u001b[0m             \u001b[1;31m# fit method of arity 2 (supervised transformation)\u001b[0m\u001b[1;33m\u001b[0m\u001b[1;33m\u001b[0m\u001b[0m\n",
      "\u001b[1;32m~\\Anaconda3\\lib\\site-packages\\sklearn\\preprocessing\\data.py\u001b[0m in \u001b[0;36mfit\u001b[1;34m(self, X, y)\u001b[0m\n\u001b[0;32m    306\u001b[0m         \u001b[1;31m# Reset internal state before fitting\u001b[0m\u001b[1;33m\u001b[0m\u001b[1;33m\u001b[0m\u001b[0m\n\u001b[0;32m    307\u001b[0m         \u001b[0mself\u001b[0m\u001b[1;33m.\u001b[0m\u001b[0m_reset\u001b[0m\u001b[1;33m(\u001b[0m\u001b[1;33m)\u001b[0m\u001b[1;33m\u001b[0m\u001b[0m\n\u001b[1;32m--> 308\u001b[1;33m         \u001b[1;32mreturn\u001b[0m \u001b[0mself\u001b[0m\u001b[1;33m.\u001b[0m\u001b[0mpartial_fit\u001b[0m\u001b[1;33m(\u001b[0m\u001b[0mX\u001b[0m\u001b[1;33m,\u001b[0m \u001b[0my\u001b[0m\u001b[1;33m)\u001b[0m\u001b[1;33m\u001b[0m\u001b[0m\n\u001b[0m\u001b[0;32m    309\u001b[0m \u001b[1;33m\u001b[0m\u001b[0m\n\u001b[0;32m    310\u001b[0m     \u001b[1;32mdef\u001b[0m \u001b[0mpartial_fit\u001b[0m\u001b[1;33m(\u001b[0m\u001b[0mself\u001b[0m\u001b[1;33m,\u001b[0m \u001b[0mX\u001b[0m\u001b[1;33m,\u001b[0m \u001b[0my\u001b[0m\u001b[1;33m=\u001b[0m\u001b[1;32mNone\u001b[0m\u001b[1;33m)\u001b[0m\u001b[1;33m:\u001b[0m\u001b[1;33m\u001b[0m\u001b[0m\n",
      "\u001b[1;32m~\\Anaconda3\\lib\\site-packages\\sklearn\\preprocessing\\data.py\u001b[0m in \u001b[0;36mpartial_fit\u001b[1;34m(self, X, y)\u001b[0m\n\u001b[0;32m    332\u001b[0m \u001b[1;33m\u001b[0m\u001b[0m\n\u001b[0;32m    333\u001b[0m         X = check_array(X, copy=self.copy, warn_on_dtype=True,\n\u001b[1;32m--> 334\u001b[1;33m                         estimator=self, dtype=FLOAT_DTYPES)\n\u001b[0m\u001b[0;32m    335\u001b[0m \u001b[1;33m\u001b[0m\u001b[0m\n\u001b[0;32m    336\u001b[0m         \u001b[0mdata_min\u001b[0m \u001b[1;33m=\u001b[0m \u001b[0mnp\u001b[0m\u001b[1;33m.\u001b[0m\u001b[0mmin\u001b[0m\u001b[1;33m(\u001b[0m\u001b[0mX\u001b[0m\u001b[1;33m,\u001b[0m \u001b[0maxis\u001b[0m\u001b[1;33m=\u001b[0m\u001b[1;36m0\u001b[0m\u001b[1;33m)\u001b[0m\u001b[1;33m\u001b[0m\u001b[0m\n",
      "\u001b[1;32m~\\Anaconda3\\lib\\site-packages\\sklearn\\utils\\validation.py\u001b[0m in \u001b[0;36mcheck_array\u001b[1;34m(array, accept_sparse, dtype, order, copy, force_all_finite, ensure_2d, allow_nd, ensure_min_samples, ensure_min_features, warn_on_dtype, estimator)\u001b[0m\n\u001b[0;32m    431\u001b[0m                                       force_all_finite)\n\u001b[0;32m    432\u001b[0m     \u001b[1;32melse\u001b[0m\u001b[1;33m:\u001b[0m\u001b[1;33m\u001b[0m\u001b[0m\n\u001b[1;32m--> 433\u001b[1;33m         \u001b[0marray\u001b[0m \u001b[1;33m=\u001b[0m \u001b[0mnp\u001b[0m\u001b[1;33m.\u001b[0m\u001b[0marray\u001b[0m\u001b[1;33m(\u001b[0m\u001b[0marray\u001b[0m\u001b[1;33m,\u001b[0m \u001b[0mdtype\u001b[0m\u001b[1;33m=\u001b[0m\u001b[0mdtype\u001b[0m\u001b[1;33m,\u001b[0m \u001b[0morder\u001b[0m\u001b[1;33m=\u001b[0m\u001b[0morder\u001b[0m\u001b[1;33m,\u001b[0m \u001b[0mcopy\u001b[0m\u001b[1;33m=\u001b[0m\u001b[0mcopy\u001b[0m\u001b[1;33m)\u001b[0m\u001b[1;33m\u001b[0m\u001b[0m\n\u001b[0m\u001b[0;32m    434\u001b[0m \u001b[1;33m\u001b[0m\u001b[0m\n\u001b[0;32m    435\u001b[0m         \u001b[1;32mif\u001b[0m \u001b[0mensure_2d\u001b[0m\u001b[1;33m:\u001b[0m\u001b[1;33m\u001b[0m\u001b[0m\n",
      "\u001b[1;31mTypeError\u001b[0m: float() argument must be a string or a number, not 'NaTType'"
     ]
    }
   ],
   "source": [
    "sc = MinMaxScaler(feature_range = (0, 1))\n",
    "training_set_scaled = sc.fit_transform(training_set)\n",
    "sc1 = MinMaxScaler(feature_range = (0, 1))\n",
    "training_set_scaled1 = sc1.fit_transform(training_set1)"
   ]
  },
  {
   "cell_type": "code",
   "execution_count": 313,
   "metadata": {},
   "outputs": [],
   "source": [
    "#res = sc.transform(res) # Feature Scaling"
   ]
  },
  {
   "cell_type": "code",
   "execution_count": 360,
   "metadata": {
    "scrolled": true
   },
   "outputs": [],
   "source": [
    "X_train = []   \n",
    "y_train = []   \n",
    "for i in range(7, 2100):  # 2100 是訓練集總數\n",
    "    X_train.append(training_set_scaled[i-7:i,:])\n",
    "    y_train.append(training_set_scaled1[i,0])\n",
    "X_train, y_train = np.array(X_train), np.array(y_train)  # 轉成numpy array的格式，以利輸入 RNN\n",
    "X_train = np.reshape(X_train, (X_train.shape[0], X_train.shape[1]*X_train.shape[2], 1))\n",
    "# Import the Keras libraries and packages\n",
    "\n",
    "# Initialising the RNN\n",
    "regressor = Sequential()"
   ]
  },
  {
   "cell_type": "code",
   "execution_count": 361,
   "metadata": {},
   "outputs": [
    {
     "name": "stdout",
     "output_type": "stream",
     "text": [
      "Epoch 1/100\n",
      "2093/2093 [==============================] - 15s 7ms/step - loss: 0.0211\n",
      "Epoch 2/100\n",
      "2093/2093 [==============================] - 10s 5ms/step - loss: 0.0071\n",
      "Epoch 3/100\n",
      "2093/2093 [==============================] - 9s 4ms/step - loss: 0.0065\n",
      "Epoch 4/100\n",
      "2093/2093 [==============================] - 9s 4ms/step - loss: 0.0066\n",
      "Epoch 5/100\n",
      "2093/2093 [==============================] - 9s 4ms/step - loss: 0.0066\n",
      "Epoch 6/100\n",
      "2093/2093 [==============================] - 10s 5ms/step - loss: 0.0072\n",
      "Epoch 7/100\n",
      "2093/2093 [==============================] - 10s 5ms/step - loss: 0.0066\n",
      "Epoch 8/100\n",
      "2093/2093 [==============================] - 10s 5ms/step - loss: 0.0061\n",
      "Epoch 9/100\n",
      "2093/2093 [==============================] - 10s 5ms/step - loss: 0.0056\n",
      "Epoch 10/100\n",
      "2093/2093 [==============================] - 11s 5ms/step - loss: 0.0058\n",
      "Epoch 11/100\n",
      "2093/2093 [==============================] - 10s 5ms/step - loss: 0.0032\n",
      "Epoch 12/100\n",
      "2093/2093 [==============================] - 10s 5ms/step - loss: 0.0022\n",
      "Epoch 13/100\n",
      "2093/2093 [==============================] - 10s 5ms/step - loss: 0.0018\n",
      "Epoch 14/100\n",
      "2093/2093 [==============================] - 11s 5ms/step - loss: 0.0014\n",
      "Epoch 15/100\n",
      "2093/2093 [==============================] - 11s 5ms/step - loss: 0.0014\n",
      "Epoch 16/100\n",
      "2093/2093 [==============================] - 10s 5ms/step - loss: 0.0013\n",
      "Epoch 17/100\n",
      "2093/2093 [==============================] - 10s 5ms/step - loss: 0.0013\n",
      "Epoch 18/100\n",
      "2093/2093 [==============================] - 10s 5ms/step - loss: 0.0013\n",
      "Epoch 19/100\n",
      "2093/2093 [==============================] - 9s 5ms/step - loss: 0.0012\n",
      "Epoch 20/100\n",
      "2093/2093 [==============================] - 9s 5ms/step - loss: 0.0012\n",
      "Epoch 21/100\n",
      "2093/2093 [==============================] - 10s 5ms/step - loss: 0.0011\n",
      "Epoch 22/100\n",
      "2093/2093 [==============================] - 10s 5ms/step - loss: 0.0012\n",
      "Epoch 23/100\n",
      "2093/2093 [==============================] - 10s 5ms/step - loss: 0.0012\n",
      "Epoch 24/100\n",
      "2093/2093 [==============================] - 10s 5ms/step - loss: 0.0011\n",
      "Epoch 25/100\n",
      "2093/2093 [==============================] - 10s 5ms/step - loss: 0.0011\n",
      "Epoch 26/100\n",
      "2093/2093 [==============================] - 10s 5ms/step - loss: 0.0011\n",
      "Epoch 27/100\n",
      "2093/2093 [==============================] - 10s 5ms/step - loss: 0.0011\n",
      "Epoch 28/100\n",
      "2093/2093 [==============================] - 10s 5ms/step - loss: 0.0011\n",
      "Epoch 29/100\n",
      "2093/2093 [==============================] - 9s 4ms/step - loss: 0.0010\n",
      "Epoch 30/100\n",
      "2093/2093 [==============================] - 9s 4ms/step - loss: 0.0010\n",
      "Epoch 31/100\n",
      "2093/2093 [==============================] - 9s 4ms/step - loss: 9.6881e-04\n",
      "Epoch 32/100\n",
      "2093/2093 [==============================] - 9s 4ms/step - loss: 9.7490e-04\n",
      "Epoch 33/100\n",
      "2093/2093 [==============================] - 9s 4ms/step - loss: 9.4985e-04\n",
      "Epoch 34/100\n",
      "2093/2093 [==============================] - 9s 4ms/step - loss: 9.6329e-04\n",
      "Epoch 35/100\n",
      "2093/2093 [==============================] - 9s 4ms/step - loss: 8.4793e-04\n",
      "Epoch 36/100\n",
      "2093/2093 [==============================] - 10s 5ms/step - loss: 8.9466e-04\n",
      "Epoch 37/100\n",
      "2093/2093 [==============================] - 9s 4ms/step - loss: 9.3223e-04\n",
      "Epoch 38/100\n",
      "2093/2093 [==============================] - 9s 5ms/step - loss: 8.4663e-04\n",
      "Epoch 39/100\n",
      "2093/2093 [==============================] - 9s 4ms/step - loss: 9.4020e-04\n",
      "Epoch 40/100\n",
      "2093/2093 [==============================] - 9s 4ms/step - loss: 8.0128e-04\n",
      "Epoch 41/100\n",
      "2093/2093 [==============================] - 9s 4ms/step - loss: 8.8814e-04\n",
      "Epoch 42/100\n",
      "2093/2093 [==============================] - 9s 4ms/step - loss: 8.1469e-04\n",
      "Epoch 43/100\n",
      "2093/2093 [==============================] - 9s 4ms/step - loss: 7.6320e-04\n",
      "Epoch 44/100\n",
      "2093/2093 [==============================] - 10s 5ms/step - loss: 8.3694e-04\n",
      "Epoch 45/100\n",
      "2093/2093 [==============================] - 9s 4ms/step - loss: 8.4989e-04\n",
      "Epoch 46/100\n",
      "2093/2093 [==============================] - 9s 4ms/step - loss: 7.9043e-04\n",
      "Epoch 47/100\n",
      "2093/2093 [==============================] - 9s 4ms/step - loss: 7.9917e-04\n",
      "Epoch 48/100\n",
      "2093/2093 [==============================] - 9s 4ms/step - loss: 7.9029e-04\n",
      "Epoch 49/100\n",
      "2093/2093 [==============================] - 10s 5ms/step - loss: 7.3085e-04\n",
      "Epoch 50/100\n",
      "2093/2093 [==============================] - 10s 5ms/step - loss: 7.1981e-04\n",
      "Epoch 51/100\n",
      "2093/2093 [==============================] - 10s 5ms/step - loss: 7.7846e-04\n",
      "Epoch 52/100\n",
      "2093/2093 [==============================] - 10s 5ms/step - loss: 6.9651e-04\n",
      "Epoch 53/100\n",
      "2093/2093 [==============================] - 11s 5ms/step - loss: 8.1763e-04\n",
      "Epoch 54/100\n",
      "2093/2093 [==============================] - 10s 5ms/step - loss: 7.9136e-04\n",
      "Epoch 55/100\n",
      "2093/2093 [==============================] - 10s 5ms/step - loss: 7.2140e-04\n",
      "Epoch 56/100\n",
      "2093/2093 [==============================] - 10s 5ms/step - loss: 6.9407e-04\n",
      "Epoch 57/100\n",
      "2093/2093 [==============================] - 10s 5ms/step - loss: 6.7778e-04\n",
      "Epoch 58/100\n",
      "2093/2093 [==============================] - 10s 5ms/step - loss: 5.8411e-04\n",
      "Epoch 59/100\n",
      "2093/2093 [==============================] - 10s 5ms/step - loss: 6.9266e-04\n",
      "Epoch 60/100\n",
      "2093/2093 [==============================] - 10s 5ms/step - loss: 8.6389e-04\n",
      "Epoch 61/100\n",
      "2093/2093 [==============================] - 9s 5ms/step - loss: 6.6950e-04\n",
      "Epoch 62/100\n",
      "2093/2093 [==============================] - 9s 5ms/step - loss: 6.9553e-04\n",
      "Epoch 63/100\n",
      "2093/2093 [==============================] - 10s 5ms/step - loss: 6.7913e-04\n",
      "Epoch 64/100\n",
      "2093/2093 [==============================] - 10s 5ms/step - loss: 6.5690e-04\n",
      "Epoch 65/100\n",
      "2093/2093 [==============================] - 9s 4ms/step - loss: 6.6574e-04\n",
      "Epoch 66/100\n",
      "2093/2093 [==============================] - 10s 5ms/step - loss: 7.7106e-04\n",
      "Epoch 67/100\n",
      "2093/2093 [==============================] - 9s 4ms/step - loss: 6.5294e-04\n",
      "Epoch 68/100\n",
      "2093/2093 [==============================] - 10s 5ms/step - loss: 6.9304e-04\n",
      "Epoch 69/100\n",
      "2093/2093 [==============================] - 10s 5ms/step - loss: 7.2216e-04\n",
      "Epoch 70/100\n",
      "2093/2093 [==============================] - 9s 4ms/step - loss: 6.7627e-04\n",
      "Epoch 71/100\n",
      "2093/2093 [==============================] - 10s 5ms/step - loss: 6.3710e-04\n",
      "Epoch 72/100\n",
      "2093/2093 [==============================] - 9s 5ms/step - loss: 8.0177e-04\n",
      "Epoch 73/100\n",
      "2093/2093 [==============================] - 9s 4ms/step - loss: 6.8606e-04\n",
      "Epoch 74/100\n",
      "2093/2093 [==============================] - 9s 4ms/step - loss: 6.1894e-04\n",
      "Epoch 75/100\n",
      "2093/2093 [==============================] - 10s 5ms/step - loss: 6.1810e-04\n",
      "Epoch 76/100\n",
      "2093/2093 [==============================] - 10s 5ms/step - loss: 6.3174e-04\n",
      "Epoch 77/100\n",
      "2093/2093 [==============================] - 9s 4ms/step - loss: 6.1227e-04\n",
      "Epoch 78/100\n",
      "2093/2093 [==============================] - 9s 4ms/step - loss: 6.4171e-04\n",
      "Epoch 79/100\n",
      "2093/2093 [==============================] - 9s 4ms/step - loss: 7.0300e-04\n",
      "Epoch 80/100\n",
      "2093/2093 [==============================] - 9s 4ms/step - loss: 7.7668e-04\n",
      "Epoch 81/100\n",
      "2093/2093 [==============================] - 9s 4ms/step - loss: 8.1194e-04\n",
      "Epoch 82/100\n",
      "2093/2093 [==============================] - 9s 4ms/step - loss: 7.2996e-04\n",
      "Epoch 83/100\n",
      "2093/2093 [==============================] - 9s 4ms/step - loss: 5.9850e-04\n",
      "Epoch 84/100\n",
      "2093/2093 [==============================] - 9s 4ms/step - loss: 6.2447e-04\n",
      "Epoch 85/100\n",
      "2093/2093 [==============================] - 9s 4ms/step - loss: 6.4782e-04\n",
      "Epoch 86/100\n",
      "2093/2093 [==============================] - 9s 4ms/step - loss: 6.1030e-04\n",
      "Epoch 87/100\n",
      "2093/2093 [==============================] - 9s 5ms/step - loss: 5.9086e-04\n",
      "Epoch 88/100\n",
      "2093/2093 [==============================] - 9s 4ms/step - loss: 6.0890e-04\n",
      "Epoch 89/100\n",
      "2093/2093 [==============================] - 9s 4ms/step - loss: 5.9841e-04\n",
      "Epoch 90/100\n",
      "2093/2093 [==============================] - 9s 4ms/step - loss: 7.5494e-04\n",
      "Epoch 91/100\n",
      "2093/2093 [==============================] - 9s 4ms/step - loss: 6.5653e-04\n",
      "Epoch 92/100\n",
      "2093/2093 [==============================] - 9s 4ms/step - loss: 6.1109e-04\n",
      "Epoch 93/100\n",
      "2093/2093 [==============================] - 9s 4ms/step - loss: 5.8053e-04\n"
     ]
    },
    {
     "name": "stdout",
     "output_type": "stream",
     "text": [
      "Epoch 94/100\n",
      "2093/2093 [==============================] - 9s 4ms/step - loss: 6.4562e-04\n",
      "Epoch 95/100\n",
      "2093/2093 [==============================] - 9s 4ms/step - loss: 6.0692e-04\n",
      "Epoch 96/100\n",
      "2093/2093 [==============================] - 10s 5ms/step - loss: 6.5624e-04\n",
      "Epoch 97/100\n",
      "2093/2093 [==============================] - 9s 5ms/step - loss: 5.6849e-04\n",
      "Epoch 98/100\n",
      "2093/2093 [==============================] - 9s 4ms/step - loss: 5.9803e-04\n",
      "Epoch 99/100\n",
      "2093/2093 [==============================] - 9s 4ms/step - loss: 6.5556e-04\n",
      "Epoch 100/100\n",
      "2093/2093 [==============================] - 9s 4ms/step - loss: 6.3392e-04\n"
     ]
    },
    {
     "data": {
      "text/plain": [
       "<keras.callbacks.History at 0x1b622c10198>"
      ]
     },
     "execution_count": 361,
     "metadata": {},
     "output_type": "execute_result"
    }
   ],
   "source": [
    "# Adding the first LSTM layer and some Dropout regularisation\n",
    "regressor.add(LSTM(units = 50, return_sequences = True, input_shape = (X_train.shape[1], 1)))\n",
    "regressor.add(Dropout(0.2))\n",
    "\n",
    "# Adding a second LSTM layer and some Dropout regularisation\n",
    "regressor.add(LSTM(units = 50, return_sequences = True))\n",
    "regressor.add(Dropout(0.2))\n",
    "\n",
    "# Adding a third LSTM layer and some Dropout regularisation\n",
    "regressor.add(LSTM(units = 50, return_sequences = True))\n",
    "regressor.add(Dropout(0.2))\n",
    "\n",
    "# Adding a fourth LSTM layer and some Dropout regularisation\n",
    "regressor.add(LSTM(units = 50))\n",
    "regressor.add(Dropout(0.2))\n",
    "# Adding the output layer\n",
    "regressor.add(Dense(units = 1))\n",
    "# Compiling\n",
    "regressor.compile(optimizer = 'adam', loss = 'mean_squared_error')\n",
    "\n",
    "# 進行訓練\n",
    "regressor.fit(X_train, y_train, epochs = 100, batch_size = 32)"
   ]
  },
  {
   "cell_type": "code",
   "execution_count": 364,
   "metadata": {
    "scrolled": true
   },
   "outputs": [],
   "source": [
    "X_test=[]\n",
    "for i in range(2101, 2232):  # 1747 是訓練集總數\n",
    "    X_test.append(training_set_scaled[i-7:i,0:])"
   ]
  },
  {
   "cell_type": "code",
   "execution_count": 365,
   "metadata": {},
   "outputs": [
    {
     "ename": "IndexError",
     "evalue": "tuple index out of range",
     "output_type": "error",
     "traceback": [
      "\u001b[1;31m---------------------------------------------------------------------------\u001b[0m",
      "\u001b[1;31mIndexError\u001b[0m                                Traceback (most recent call last)",
      "\u001b[1;32m<ipython-input-365-047944391c56>\u001b[0m in \u001b[0;36m<module>\u001b[1;34m()\u001b[0m\n\u001b[0;32m      1\u001b[0m \u001b[0mX_test\u001b[0m \u001b[1;33m=\u001b[0m \u001b[0mnp\u001b[0m\u001b[1;33m.\u001b[0m\u001b[0marray\u001b[0m\u001b[1;33m(\u001b[0m\u001b[0mX_test\u001b[0m\u001b[1;33m)\u001b[0m\u001b[1;33m\u001b[0m\u001b[0m\n\u001b[1;32m----> 2\u001b[1;33m \u001b[0mX_test\u001b[0m \u001b[1;33m=\u001b[0m \u001b[0mnp\u001b[0m\u001b[1;33m.\u001b[0m\u001b[0mreshape\u001b[0m\u001b[1;33m(\u001b[0m\u001b[0mX_test\u001b[0m\u001b[1;33m,\u001b[0m \u001b[1;33m(\u001b[0m\u001b[0mX_test\u001b[0m\u001b[1;33m.\u001b[0m\u001b[0mshape\u001b[0m\u001b[1;33m[\u001b[0m\u001b[1;36m0\u001b[0m\u001b[1;33m]\u001b[0m\u001b[1;33m,\u001b[0m \u001b[0mX_test\u001b[0m\u001b[1;33m.\u001b[0m\u001b[0mshape\u001b[0m\u001b[1;33m[\u001b[0m\u001b[1;36m1\u001b[0m\u001b[1;33m]\u001b[0m\u001b[1;33m*\u001b[0m\u001b[0mX_test\u001b[0m\u001b[1;33m.\u001b[0m\u001b[0mshape\u001b[0m\u001b[1;33m[\u001b[0m\u001b[1;36m2\u001b[0m\u001b[1;33m]\u001b[0m\u001b[1;33m,\u001b[0m \u001b[1;36m1\u001b[0m\u001b[1;33m)\u001b[0m\u001b[1;33m)\u001b[0m\u001b[1;33m\u001b[0m\u001b[0m\n\u001b[0m",
      "\u001b[1;31mIndexError\u001b[0m: tuple index out of range"
     ]
    }
   ],
   "source": [
    "X_test = np.array(X_test)\n",
    "X_test = np.reshape(X_test, (X_test.shape[0], X_test.shape[1]*X_test.shape[2], 1))"
   ]
  },
  {
   "cell_type": "code",
   "execution_count": 345,
   "metadata": {
    "scrolled": true
   },
   "outputs": [],
   "source": [
    "predicted_stock_price = regressor.predict(X_test)"
   ]
  },
  {
   "cell_type": "code",
   "execution_count": 346,
   "metadata": {},
   "outputs": [],
   "source": [
    "predicted_stock_price = sc1.inverse_transform(predicted_stock_price)"
   ]
  },
  {
   "cell_type": "code",
   "execution_count": 366,
   "metadata": {},
   "outputs": [
    {
     "data": {
      "text/plain": [
       "Text(0,0.5,'A Price')"
      ]
     },
     "execution_count": 366,
     "metadata": {},
     "output_type": "execute_result"
    },
    {
     "data": {
      "image/png": "[encoded data removed]",
      "text/plain": [
       "<matplotlib.figure.Figure at 0x1b622334cc0>"
      ]
     },
     "metadata": {},
     "output_type": "display_data"
    }
   ],
   "source": [
    "plt.plot(predicted_stock_price,color='red',label= 'predicted_stock_price')\n",
    "plt.plot(real_stock_price,color = 'blue',label='real_stock_price')\n",
    "plt.title('A Stock Price Prediction')\n",
    "plt.xlabel('Time')\n",
    "plt.ylabel('A Price')"
   ]
  },
  {
   "cell_type": "code",
   "execution_count": null,
   "metadata": {},
   "outputs": [],
   "source": []
  }
 ],
 "metadata": {
  "kernelspec": {
   "display_name": "Python 3",
   "language": "python",
   "name": "python3"
  },
  "language_info": {
   "codemirror_mode": {
    "name": "ipython",
    "version": 3
   },
   "file_extension": ".py",
   "mimetype": "text/x-python",
   "name": "python",
   "nbconvert_exporter": "python",
   "pygments_lexer": "ipython3",
   "version": "3.6.4"
  }
 },
 "nbformat": 4,
 "nbformat_minor": 2
}
